{
 "cells": [
  {
   "cell_type": "code",
   "execution_count": 91,
   "id": "cc8afd37",
   "metadata": {},
   "outputs": [],
   "source": [
    "import pandas as pd\n",
    "import numpy as np"
   ]
  },
  {
   "cell_type": "markdown",
   "id": "30bac6c0",
   "metadata": {},
   "source": [
    "*1. Write a Pandas program to create and display a one-dimensional array-like object containing an array of data using Pandas module.*"
   ]
  },
  {
   "cell_type": "code",
   "execution_count": 92,
   "id": "b92b09a3",
   "metadata": {},
   "outputs": [
    {
     "data": {
      "text/plain": [
       "0     1\n",
       "1     4\n",
       "2     7\n",
       "3    10\n",
       "4    13\n",
       "dtype: int64"
      ]
     },
     "execution_count": 92,
     "metadata": {},
     "output_type": "execute_result"
    }
   ],
   "source": [
    "arr = np.array(np.arange(1,15,3), np.int64)\n",
    "obj = pd.Series(arr)\n",
    "obj"
   ]
  },
  {
   "cell_type": "markdown",
   "id": "9101a810",
   "metadata": {},
   "source": [
    "*2. Write a Pandas program to convert a Panda module Series to Python list and it's type.*"
   ]
  },
  {
   "cell_type": "code",
   "execution_count": 93,
   "id": "f3a6d1ee",
   "metadata": {},
   "outputs": [
    {
     "name": "stdout",
     "output_type": "stream",
     "text": [
      "<class 'pandas.core.series.Series'>\n",
      "<class 'list'>\n"
     ]
    }
   ],
   "source": [
    "series = pd.Series([1,2,3,4,5])\n",
    "print(type(series))\n",
    "list = series.tolist()\n",
    "print(type(list))"
   ]
  },
  {
   "cell_type": "markdown",
   "id": "d19f3d8f",
   "metadata": {},
   "source": [
    "*3. Write a Pandas program to add, subtract, multiple and divide two Pandas Series.Sample Series: [2, 4, 6, 8, 10], [1, 3, 5, 7, 9]*"
   ]
  },
  {
   "cell_type": "code",
   "execution_count": 94,
   "id": "885734f6",
   "metadata": {},
   "outputs": [
    {
     "name": "stdout",
     "output_type": "stream",
     "text": [
      "0     3\n",
      "1     7\n",
      "2    11\n",
      "3    15\n",
      "4    20\n",
      "dtype: int64\n",
      "0    1\n",
      "1    1\n",
      "2    1\n",
      "3    1\n",
      "4    0\n",
      "dtype: int64\n",
      "0      2\n",
      "1     12\n",
      "2     30\n",
      "3     56\n",
      "4    100\n",
      "dtype: int64\n",
      "0    2.000000\n",
      "1    1.333333\n",
      "2    1.200000\n",
      "3    1.142857\n",
      "4    1.000000\n",
      "dtype: float64\n"
     ]
    }
   ],
   "source": [
    "series1 = pd.Series([2,4,6,8,10])\n",
    "series2 = pd.Series([1,3,5,7,10])\n",
    "print(series1+series2)\n",
    "print(series1 - series2)\n",
    "print(series1 * series2)\n",
    "print(series1 / series2)"
   ]
  },
  {
   "cell_type": "markdown",
   "id": "d079833f",
   "metadata": {},
   "source": [
    "*4. Write a Pandas program to compare the elements of the two Pandas Series.Sample Series: [2, 4, 6, 8, 10], [1, 3, 5, 7, 10]*"
   ]
  },
  {
   "cell_type": "code",
   "execution_count": 95,
   "id": "74b49c01",
   "metadata": {},
   "outputs": [
    {
     "name": "stdout",
     "output_type": "stream",
     "text": [
      "Equal\n",
      "0    False\n",
      "1    False\n",
      "2    False\n",
      "3    False\n",
      "4     True\n",
      "dtype: bool\n",
      "Is series1 greater than series2?\n",
      "0     True\n",
      "1     True\n",
      "2     True\n",
      "3     True\n",
      "4    False\n",
      "dtype: bool\n",
      "Is series1 less than series2?\n",
      "0    False\n",
      "1    False\n",
      "2    False\n",
      "3    False\n",
      "4    False\n",
      "dtype: bool\n"
     ]
    }
   ],
   "source": [
    "print(\"Equal\")\n",
    "print(series1 == series2)\n",
    "print(\"Is series1 greater than series2?\")\n",
    "print(series1 > series2)\n",
    "print(\"Is series1 less than series2?\")\n",
    "print(series1 < series2)"
   ]
  },
  {
   "cell_type": "markdown",
   "id": "3ab58dd0",
   "metadata": {},
   "source": [
    "*5.Wap to convert dictionary to pandas Series*"
   ]
  },
  {
   "cell_type": "code",
   "execution_count": 96,
   "id": "a4668ecf",
   "metadata": {},
   "outputs": [
    {
     "data": {
      "text/plain": [
       "100    a\n",
       "200    b\n",
       "300    c\n",
       "400    d\n",
       "dtype: object"
      ]
     },
     "execution_count": 96,
     "metadata": {},
     "output_type": "execute_result"
    }
   ],
   "source": [
    "dict = {'a':100, 'b':200, 'c':300, 'd':400}\n",
    "k = []\n",
    "v = []\n",
    "for key, value in dict.items():\n",
    "    k.append(key)\n",
    "    v.append(value)\n",
    "series3 = pd.Series(k, index = v)\n",
    "series3"
   ]
  },
  {
   "cell_type": "markdown",
   "id": "aac1068d",
   "metadata": {},
   "source": [
    "*6.Write a Pandas program to convert a NumPy array to a Pandas series.*"
   ]
  },
  {
   "cell_type": "code",
   "execution_count": 97,
   "id": "908e7ff3",
   "metadata": {},
   "outputs": [
    {
     "data": {
      "text/plain": [
       "0     1\n",
       "1     4\n",
       "2     7\n",
       "3    10\n",
       "4    13\n",
       "dtype: int64"
      ]
     },
     "execution_count": 97,
     "metadata": {},
     "output_type": "execute_result"
    }
   ],
   "source": [
    "series4 = pd.Series(arr)\n",
    "series4"
   ]
  },
  {
   "cell_type": "markdown",
   "id": "4fd7ecb0",
   "metadata": {},
   "source": [
    "*7.Write a Pandas program to change the data type of given a column or a Series.*"
   ]
  },
  {
   "cell_type": "code",
   "execution_count": 98,
   "id": "820fc7e2",
   "metadata": {},
   "outputs": [
    {
     "name": "stdout",
     "output_type": "stream",
     "text": [
      "0           1\n",
      "1         2.3\n",
      "2         222\n",
      "3      Pandas\n",
      "4    30.99999\n",
      "dtype: object\n",
      "\n",
      "0      1.0\n",
      "1      2.3\n",
      "2    222.0\n",
      "3      NaN\n",
      "4      NaN\n",
      "dtype: float64\n"
     ]
    }
   ],
   "source": [
    "object_datatype = pd.Series([1, 2.3, 222, 'Pandas', '30.99999'])\n",
    "print(object_datatype)\n",
    "\n",
    "\n",
    "# Conversion of datatype from object to float\n",
    "np_array = object_datatype.to_numpy()\n",
    "for n in range(len(np_array)):\n",
    "    if type(np_array[n]) == str:\n",
    "        np_array[n] = np.nan\n",
    "# The astype() function creates a copy of the array, and allows you to specify the data type as a parameter.\n",
    "new_array = np_array.astype(float)\n",
    "float_datatype = pd.Series(new_array)\n",
    "\n",
    "\n",
    "# Printing the new Series of Datatype float\n",
    "print(f'\\n{float_datatype}')"
   ]
  },
  {
   "cell_type": "markdown",
   "id": "0465bf52",
   "metadata": {},
   "source": [
    "*8. Write a Pandas program to convert the first column of a DataFrame as a Series.*"
   ]
  },
  {
   "cell_type": "code",
   "execution_count": 99,
   "metadata": {},
   "outputs": [
    {
     "name": "stdout",
     "output_type": "stream",
     "text": [
      "   col1  col2  col3\n",
      "0     1    99    50\n",
      "1     2    98     1\n",
      "2     3    97    23\n",
      "\n",
      "First column of the dataframe to series:\n",
      "a    1\n",
      "b    2\n",
      "c    3\n",
      "dtype: int64\n",
      "<class 'pandas.core.series.Series'>\n",
      "\n",
      "Second column of the dataframe to series:\n",
      "a    99\n",
      "b    98\n",
      "c    97\n",
      "dtype: int64\n",
      "<class 'pandas.core.series.Series'>\n",
      "\n",
      "Third column of the dataframe to series:\n",
      "a    50\n",
      "b     1\n",
      "c    23\n",
      "dtype: int64\n",
      "<class 'pandas.core.series.Series'>\n"
     ]
    }
   ],
   "source": [
    "df_dict = {'col1':[1,2,3], 'col2':[99,98,97], 'col3':[50,1,23]}\n",
    "df = pd.DataFrame(df_dict)\n",
    "print(df)\n",
    "\n",
    "# First column as series\n",
    "s_col1 = df['col1'].to_numpy()\n",
    "series5 = pd.Series(s_col1, index = ['a', 'b', 'c'])\n",
    "print('\\nFirst column of the dataframe to series:')\n",
    "print(series5)\n",
    "print(type(series5))\n",
    "\n",
    "# Second column as series\n",
    "s_col2 = df['col2'].to_numpy()\n",
    "series6 = pd.Series(s_col2, index = ['a', 'b', 'c'])\n",
    "print('\\nSecond column of the dataframe to series:')\n",
    "print(series6)\n",
    "print(type(series6))\n",
    "\n",
    "# Third column as series\n",
    "s_col3 = df['col3'].to_numpy()\n",
    "series7 = pd.Series(s_col3, index = ['a', 'b', 'c'])\n",
    "print('\\nThird column of the dataframe to series:')\n",
    "print(series7)\n",
    "print(type(series7))"
   ]
  },
  {
   "cell_type": "markdown",
   "metadata": {},
   "source": [
    "*9. Write a Pandas program to convert a given Series to an array.*"
   ]
  },
  {
   "cell_type": "code",
   "execution_count": 100,
   "id": "754a1899",
   "metadata": {},
   "outputs": [
    {
     "name": "stdout",
     "output_type": "stream",
     "text": [
      "Original Series is:\n",
      "0           1\n",
      "1         2.3\n",
      "2         222\n",
      "3      Pandas\n",
      "4    30.99999\n",
      "dtype: object\n",
      "Series to array:[1 2.3 222 'Pandas' '30.99999']\n",
      "<class 'numpy.ndarray'>\n"
     ]
    }
   ],
   "source": [
    "series8 = pd.Series([1, 2.3, 222, 'Pandas', '30.99999'])\n",
    "print(\"Original Series is:\")\n",
    "print(series8)\n",
    "\n",
    "#Conversion using to_numpy() function\n",
    "series_array = series8.to_numpy()\n",
    "print(f\"Series to array:{series_array}\")\n",
    "print(type(series_array))"
   ]
  },
  {
   "cell_type": "markdown",
   "metadata": {},
   "source": [
    "*10. Write a Pandas program to convert Series of lists to one Series.*"
   ]
  },
  {
   "cell_type": "code",
   "execution_count": 101,
   "metadata": {},
   "outputs": [
    {
     "name": "stdout",
     "output_type": "stream",
     "text": [
      "Original Series of list:\n",
      "0     [Red, Green, White]\n",
      "1    [Blue, Pink, Yellow]\n",
      "2                    Gray\n",
      "3          [Black, Brown]\n",
      "dtype: object\n",
      "Output after apply() function:\n",
      "       0      1       2\n",
      "0    Red  Green   White\n",
      "1   Blue   Pink  Yellow\n",
      "2   Gray    NaN     NaN\n",
      "3  Black  Brown     NaN\n",
      "Output after using .stack() function\n",
      "0  0       Red\n",
      "   1     Green\n",
      "   2     White\n",
      "1  0      Blue\n",
      "   1      Pink\n",
      "   2    Yellow\n",
      "2  0      Gray\n",
      "3  0     Black\n",
      "   1     Brown\n",
      "dtype: object\n",
      "Output after resetting the index and deleting the previous index:\n",
      "0       Red\n",
      "1     Green\n",
      "2     White\n",
      "3      Blue\n",
      "4      Pink\n",
      "5    Yellow\n",
      "6      Gray\n",
      "7     Black\n",
      "8     Brown\n",
      "dtype: object\n"
     ]
    }
   ],
   "source": [
    "series_list = pd.Series([['Red', 'Green', 'White'],['Blue', 'Pink', 'Yellow'], 'Gray', ['Black', 'Brown']])\n",
    "print(\"Original Series of list:\")\n",
    "print(series_list)\n",
    "\n",
    "# Conversion to Series with one element\n",
    "\n",
    "# .apply() applies pd.Series() method to all the elements in a column of Series.\n",
    "series_list = series_list.apply(pd.Series)\n",
    "print(\"Output after apply() function:\")\n",
    "print(series_list)\n",
    "\n",
    "# .stack() is used for reshaping the dataframe. Transfoms the multilevel column header to multilevel index.\n",
    "series_list = series_list.stack()\n",
    "print(\"Output after using .stack() function\")\n",
    "print(series_list)\n",
    "\n",
    "# .reset_index() is used to reset the index of Series, DataFrame or multilevel index back to the default integer value\n",
    "series_list.reset_index(drop=True, inplace=True)\n",
    "print(\"Output after resetting the index and deleting the previous index:\")\n",
    "print(series_list)"
   ]
  },
  {
   "cell_type": "code",
   "execution_count": 102,
   "metadata": {},
   "outputs": [
    {
     "name": "stdout",
     "output_type": "stream",
     "text": [
      "0       Red\n",
      "1     Green\n",
      "2     White\n",
      "3      Blue\n",
      "4      Pink\n",
      "5    Yellow\n",
      "6      Gray\n",
      "7     Black\n",
      "8     Brown\n",
      "dtype: object\n"
     ]
    }
   ],
   "source": [
    "# Alternative way\n",
    "series_list = series_list.apply(pd.Series).stack().reset_index(drop=True)\n",
    "print(series_list)"
   ]
  },
  {
   "cell_type": "markdown",
   "metadata": {},
   "source": [
    "*11. Write a Pandas program to sort a given Series.*"
   ]
  },
  {
   "cell_type": "code",
   "execution_count": 103,
   "metadata": {},
   "outputs": [
    {
     "name": "stdout",
     "output_type": "stream",
     "text": [
      "Original series:\n",
      "0       100\n",
      "1       200\n",
      "2    python\n",
      "3    300.12\n",
      "4       400\n",
      "dtype: object\n",
      "\n",
      "Sorted out series is:\n",
      "0       100\n",
      "1       200\n",
      "2    300.12\n",
      "3       400\n",
      "4    python\n",
      "dtype: object\n"
     ]
    }
   ],
   "source": [
    "series9 = pd.Series([100, 200, 'python', 300.12, 400])\n",
    "print(\"Original series:\")\n",
    "print(series9)\n",
    "\n",
    "# Sorting the given pandas series\n",
    "# 1st method\n",
    "string_array = np.array([])\n",
    "for value in series9:\n",
    "    if type(value) == str:\n",
    "        string_array = np.append(string_array, [value]) # adds 'value' element to string_array \n",
    "\n",
    "# 2nd method\n",
    "numeric_array = np.array([value for value in series9 if type(value)!=str], np.str_)\n",
    "\n",
    "# concatenates two or more array like obj along the specified axis. Default axis is 0.\n",
    "# The use of square brackets [] in np.concatenate([]) is to create a list containing the arrays that you want to concatenate. \n",
    "series10 = pd.Series(np.concatenate([numeric_array, string_array], axis=0)) \n",
    "print('\\nSorted out series is:')\n",
    "print(series10)\n"
   ]
  },
  {
   "cell_type": "markdown",
   "metadata": {},
   "source": [
    "*12. Wap to add some data to existing series.*"
   ]
  },
  {
   "cell_type": "code",
   "execution_count": 104,
   "metadata": {},
   "outputs": [
    {
     "name": "stdout",
     "output_type": "stream",
     "text": [
      "Series10 after adding the data to axis 0.\n",
      "0       100\n",
      "1       200\n",
      "2    300.12\n",
      "3       400\n",
      "4    python\n",
      "5       500\n",
      "6       php\n",
      "dtype: object\n"
     ]
    }
   ],
   "source": [
    "print(\"Series10 after adding the data to axis 0.\")\n",
    "# pd.concat() adds series and series or dataframes and series or along the axis specified . Default axis is 0.\n",
    "series11 = pd.concat([series10, pd.Series(['500', 'php'])], axis=0, ignore_index=True)\n",
    "print(series11)"
   ]
  },
  {
   "cell_type": "markdown",
   "metadata": {},
   "source": [
    "*13. Write a Pandas program to create a subset of a given series based on value and condition.*"
   ]
  },
  {
   "cell_type": "code",
   "execution_count": 131,
   "metadata": {},
   "outputs": [
    {
     "name": "stdout",
     "output_type": "stream",
     "text": [
      "Original series is:\n",
      "0      84\n",
      "1     100\n",
      "2     234\n",
      "3     237\n",
      "4     292\n",
      "5     421\n",
      "6    2342\n",
      "7    2343\n",
      "8    2346\n",
      "9    2435\n",
      "dtype: int64\n",
      "\n",
      "Subset of the original series is:\n",
      "0     84\n",
      "1    100\n",
      "2    234\n",
      "3    237\n",
      "4    292\n",
      "5    421\n",
      "dtype: int64\n"
     ]
    }
   ],
   "source": [
    "series12 = pd.Series([421,2342,2343,234,2435,2346,237,84,292,100])\n",
    "series12.sort_values(ascending=True, inplace=True)\n",
    "series12.reset_index(drop=True, inplace=True)\n",
    "print(\"Original series is:\")\n",
    "print(series12)\n",
    "\n",
    "# Defining the condition\n",
    "condititon = series12 < 948\n",
    "\n",
    "# Subset of the original series\n",
    "series13 = series12[condititon]\n",
    "print(\"\\nSubset of the original series is:\")\n",
    "print(series13)"
   ]
  },
  {
   "cell_type": "markdown",
   "metadata": {},
   "source": [
    "*14. Wap to change the given index of the series.*"
   ]
  },
  {
   "cell_type": "code",
   "execution_count": 132,
   "metadata": {},
   "outputs": [
    {
     "name": "stdout",
     "output_type": "stream",
     "text": [
      "A      84\n",
      "B     100\n",
      "C     234\n",
      "D     237\n",
      "E     292\n",
      "F     421\n",
      "G    2342\n",
      "H    2343\n",
      "I    2346\n",
      "J    2435\n",
      "dtype: int64\n"
     ]
    }
   ],
   "source": [
    "series12.index = ['A', 'B', 'C', 'D', 'E', 'F', 'G', 'H', 'I', 'J']\n",
    "print(series12)\n"
   ]
  },
  {
   "cell_type": "code",
   "execution_count": null,
   "metadata": {},
   "outputs": [],
   "source": []
  },
  {
   "cell_type": "code",
   "execution_count": null,
   "metadata": {},
   "outputs": [],
   "source": []
  }
 ],
 "metadata": {
  "kernelspec": {
   "display_name": "Python 3 (ipykernel)",
   "language": "python",
   "name": "python3"
  },
  "language_info": {
   "codemirror_mode": {
    "name": "ipython",
    "version": 3
   },
   "file_extension": ".py",
   "mimetype": "text/x-python",
   "name": "python",
   "nbconvert_exporter": "python",
   "pygments_lexer": "ipython3",
   "version": "3.11.4"
  }
 },
 "nbformat": 4,
 "nbformat_minor": 5
}
