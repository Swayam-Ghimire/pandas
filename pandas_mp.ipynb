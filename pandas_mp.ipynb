{
 "cells": [
  {
   "cell_type": "code",
   "execution_count": 2,
   "id": "cc8afd37",
   "metadata": {},
   "outputs": [],
   "source": [
    "import pandas as pd\n",
    "import numpy as np"
   ]
  },
  {
   "cell_type": "markdown",
   "id": "30bac6c0",
   "metadata": {},
   "source": [
    "*1. Write a Pandas program to create and display a one-dimensional array-like object containing an array of data using Pandas module.*"
   ]
  },
  {
   "cell_type": "code",
   "execution_count": 3,
   "id": "b92b09a3",
   "metadata": {},
   "outputs": [
    {
     "data": {
      "text/plain": [
       "0     1\n",
       "1     4\n",
       "2     7\n",
       "3    10\n",
       "4    13\n",
       "dtype: int64"
      ]
     },
     "execution_count": 3,
     "metadata": {},
     "output_type": "execute_result"
    }
   ],
   "source": [
    "arr = np.array(np.arange(1,15,3), np.int64)\n",
    "obj = pd.Series(arr)\n",
    "obj"
   ]
  },
  {
   "cell_type": "markdown",
   "id": "9101a810",
   "metadata": {},
   "source": [
    "*2. Write a Pandas program to convert a Panda module Series to Python list and it's type.*"
   ]
  },
  {
   "cell_type": "code",
   "execution_count": 4,
   "id": "f3a6d1ee",
   "metadata": {},
   "outputs": [
    {
     "name": "stdout",
     "output_type": "stream",
     "text": [
      "<class 'pandas.core.series.Series'>\n",
      "<class 'list'>\n"
     ]
    }
   ],
   "source": [
    "series = pd.Series([1,2,3,4,5])\n",
    "print(type(series))\n",
    "list = series.tolist()\n",
    "print(type(list))"
   ]
  },
  {
   "cell_type": "markdown",
   "id": "d19f3d8f",
   "metadata": {},
   "source": [
    "*3. Write a Pandas program to add, subtract, multiple and divide two Pandas Series.Sample Series: [2, 4, 6, 8, 10], [1, 3, 5, 7, 9]*"
   ]
  },
  {
   "cell_type": "code",
   "execution_count": 5,
   "id": "885734f6",
   "metadata": {},
   "outputs": [
    {
     "name": "stdout",
     "output_type": "stream",
     "text": [
      "0     3\n",
      "1     7\n",
      "2    11\n",
      "3    15\n",
      "4    20\n",
      "dtype: int64\n",
      "0    1\n",
      "1    1\n",
      "2    1\n",
      "3    1\n",
      "4    0\n",
      "dtype: int64\n",
      "0      2\n",
      "1     12\n",
      "2     30\n",
      "3     56\n",
      "4    100\n",
      "dtype: int64\n",
      "0    2.000000\n",
      "1    1.333333\n",
      "2    1.200000\n",
      "3    1.142857\n",
      "4    1.000000\n",
      "dtype: float64\n"
     ]
    }
   ],
   "source": [
    "series1 = pd.Series([2,4,6,8,10])\n",
    "series2 = pd.Series([1,3,5,7,10])\n",
    "print(series1+series2)\n",
    "print(series1 - series2)\n",
    "print(series1 * series2)\n",
    "print(series1 / series2)"
   ]
  },
  {
   "cell_type": "markdown",
   "id": "d079833f",
   "metadata": {},
   "source": [
    "*4. Write a Pandas program to compare the elements of the two Pandas Series.Sample Series: [2, 4, 6, 8, 10], [1, 3, 5, 7, 10]*"
   ]
  },
  {
   "cell_type": "code",
   "execution_count": 6,
   "id": "74b49c01",
   "metadata": {},
   "outputs": [
    {
     "name": "stdout",
     "output_type": "stream",
     "text": [
      "Equal\n",
      "0    False\n",
      "1    False\n",
      "2    False\n",
      "3    False\n",
      "4     True\n",
      "dtype: bool\n",
      "Is series1 greater than series2?\n",
      "0     True\n",
      "1     True\n",
      "2     True\n",
      "3     True\n",
      "4    False\n",
      "dtype: bool\n",
      "Is series1 less than series2?\n",
      "0    False\n",
      "1    False\n",
      "2    False\n",
      "3    False\n",
      "4    False\n",
      "dtype: bool\n"
     ]
    }
   ],
   "source": [
    "print(\"Equal\")\n",
    "print(series1 == series2)\n",
    "print(\"Is series1 greater than series2?\")\n",
    "print(series1 > series2)\n",
    "print(\"Is series1 less than series2?\")\n",
    "print(series1 < series2)"
   ]
  },
  {
   "cell_type": "markdown",
   "id": "3ab58dd0",
   "metadata": {},
   "source": [
    "*5.Wap to convert dictionary to pandas Series*"
   ]
  },
  {
   "cell_type": "code",
   "execution_count": 7,
   "id": "a4668ecf",
   "metadata": {},
   "outputs": [
    {
     "data": {
      "text/plain": [
       "100    a\n",
       "200    b\n",
       "300    c\n",
       "400    d\n",
       "dtype: object"
      ]
     },
     "execution_count": 7,
     "metadata": {},
     "output_type": "execute_result"
    }
   ],
   "source": [
    "dict = {'a':100, 'b':200, 'c':300, 'd':400}\n",
    "k = []\n",
    "v = []\n",
    "for key, value in dict.items():\n",
    "    k.append(key)\n",
    "    v.append(value)\n",
    "series3 = pd.Series(k, index = v)\n",
    "series3"
   ]
  },
  {
   "cell_type": "markdown",
   "id": "aac1068d",
   "metadata": {},
   "source": [
    "*6.Write a Pandas program to convert a NumPy array to a Pandas series.*"
   ]
  },
  {
   "cell_type": "code",
   "execution_count": 8,
   "id": "908e7ff3",
   "metadata": {},
   "outputs": [
    {
     "data": {
      "text/plain": [
       "0     1\n",
       "1     4\n",
       "2     7\n",
       "3    10\n",
       "4    13\n",
       "dtype: int64"
      ]
     },
     "execution_count": 8,
     "metadata": {},
     "output_type": "execute_result"
    }
   ],
   "source": [
    "series4 = pd.Series(arr)\n",
    "series4"
   ]
  },
  {
   "cell_type": "markdown",
   "id": "4fd7ecb0",
   "metadata": {},
   "source": [
    "*7.Write a Pandas program to change the data type of given a column or a Series.*"
   ]
  },
  {
   "cell_type": "code",
   "execution_count": 9,
   "id": "820fc7e2",
   "metadata": {},
   "outputs": [
    {
     "name": "stdout",
     "output_type": "stream",
     "text": [
      "0           1\n",
      "1         2.3\n",
      "2         222\n",
      "3      Pandas\n",
      "4    30.99999\n",
      "dtype: object\n",
      "\n",
      "0      1.0\n",
      "1      2.3\n",
      "2    222.0\n",
      "3      NaN\n",
      "4      NaN\n",
      "dtype: float64\n"
     ]
    }
   ],
   "source": [
    "object_datatype = pd.Series([1, 2.3, 222, 'Pandas', '30.99999'])\n",
    "print(object_datatype)\n",
    "\n",
    "\n",
    "# Conversion of datatype from object to float\n",
    "np_array = object_datatype.to_numpy()\n",
    "for n in range(len(np_array)):\n",
    "    if type(np_array[n]) == str:\n",
    "        np_array[n] = np.nan\n",
    "# The astype() function creates a copy of the array, and allows you to specify the data type as a parameter.\n",
    "new_array = np_array.astype(float)\n",
    "float_datatype = pd.Series(new_array)\n",
    "\n",
    "\n",
    "# Printing the new Series of Datatype float\n",
    "print(f'\\n{float_datatype}')"
   ]
  },
  {
   "cell_type": "markdown",
   "id": "0465bf52",
   "metadata": {},
   "source": [
    "*8. Write a Pandas program to convert the first column of a DataFrame as a Series.*"
   ]
  },
  {
   "cell_type": "code",
   "execution_count": 10,
   "metadata": {},
   "outputs": [
    {
     "name": "stdout",
     "output_type": "stream",
     "text": [
      "   col1  col2  col3\n",
      "0     1    99    50\n",
      "1     2    98     1\n",
      "2     3    97    23\n",
      "\n",
      "First column of the dataframe to series:\n",
      "a    1\n",
      "b    2\n",
      "c    3\n",
      "dtype: int64\n",
      "<class 'pandas.core.series.Series'>\n",
      "\n",
      "Second column of the dataframe to series:\n",
      "a    99\n",
      "b    98\n",
      "c    97\n",
      "dtype: int64\n",
      "<class 'pandas.core.series.Series'>\n",
      "\n",
      "Third column of the dataframe to series:\n",
      "a    50\n",
      "b     1\n",
      "c    23\n",
      "dtype: int64\n",
      "<class 'pandas.core.series.Series'>\n"
     ]
    }
   ],
   "source": [
    "df_dict = {'col1':[1,2,3], 'col2':[99,98,97], 'col3':[50,1,23]}\n",
    "df = pd.DataFrame(df_dict)\n",
    "print(df)\n",
    "\n",
    "# First column as series\n",
    "s_col1 = df['col1'].to_numpy()\n",
    "series5 = pd.Series(s_col1, index = ['a', 'b', 'c'])\n",
    "print('\\nFirst column of the dataframe to series:')\n",
    "print(series5)\n",
    "print(type(series5))\n",
    "\n",
    "# Second column as series\n",
    "s_col2 = df['col2'].to_numpy()\n",
    "series6 = pd.Series(s_col2, index = ['a', 'b', 'c'])\n",
    "print('\\nSecond column of the dataframe to series:')\n",
    "print(series6)\n",
    "print(type(series6))\n",
    "\n",
    "# Third column as series\n",
    "s_col3 = df['col3'].to_numpy()\n",
    "series7 = pd.Series(s_col3, index = ['a', 'b', 'c'])\n",
    "print('\\nThird column of the dataframe to series:')\n",
    "print(series7)\n",
    "print(type(series7))"
   ]
  },
  {
   "cell_type": "markdown",
   "metadata": {},
   "source": [
    "*9. Write a Pandas program to convert a given Series to an array.*"
   ]
  },
  {
   "cell_type": "code",
   "execution_count": 11,
   "id": "754a1899",
   "metadata": {},
   "outputs": [
    {
     "name": "stdout",
     "output_type": "stream",
     "text": [
      "Original Series is:\n",
      "0           1\n",
      "1         2.3\n",
      "2         222\n",
      "3      Pandas\n",
      "4    30.99999\n",
      "dtype: object\n",
      "Series to array:[1 2.3 222 'Pandas' '30.99999']\n",
      "<class 'numpy.ndarray'>\n"
     ]
    }
   ],
   "source": [
    "series8 = pd.Series([1, 2.3, 222, 'Pandas', '30.99999'])\n",
    "print(\"Original Series is:\")\n",
    "print(series8)\n",
    "\n",
    "#Conversion using to_numpy() function\n",
    "series_array = series8.to_numpy()\n",
    "print(f\"Series to array:{series_array}\")\n",
    "print(type(series_array))"
   ]
  },
  {
   "cell_type": "markdown",
   "metadata": {},
   "source": [
    "*10. Write a Pandas program to convert Series of lists to one Series.*"
   ]
  },
  {
   "cell_type": "code",
   "execution_count": 14,
   "metadata": {},
   "outputs": [
    {
     "name": "stdout",
     "output_type": "stream",
     "text": [
      "Original Series of list:\n",
      "0     [Red, Green, White]\n",
      "1    [Blue, Pink, Yellow]\n",
      "2                    Gray\n",
      "3          [Black, Brown]\n",
      "dtype: object\n"
     ]
    },
    {
     "data": {
      "text/plain": [
       "[['Red', 'Green', 'White'],\n",
       " ['Blue', 'Pink', 'Yellow'],\n",
       " 'Gray',\n",
       " ['Black', 'Brown']]"
      ]
     },
     "execution_count": 14,
     "metadata": {},
     "output_type": "execute_result"
    }
   ],
   "source": [
    "series_list = pd.Series([['Red', 'Green', 'White'],['Blue', 'Pink', 'Yellow'], 'Gray', ['Black', 'Brown']])\n",
    "print(\"Original Series of list:\")\n",
    "print(series_list)\n",
    "\n",
    "# Conversion to Series with one element\n"
   ]
  },
  {
   "cell_type": "code",
   "execution_count": null,
   "metadata": {},
   "outputs": [],
   "source": []
  }
 ],
 "metadata": {
  "kernelspec": {
   "display_name": "Python 3 (ipykernel)",
   "language": "python",
   "name": "python3"
  },
  "language_info": {
   "codemirror_mode": {
    "name": "ipython",
    "version": 3
   },
   "file_extension": ".py",
   "mimetype": "text/x-python",
   "name": "python",
   "nbconvert_exporter": "python",
   "pygments_lexer": "ipython3",
   "version": "3.11.4"
  }
 },
 "nbformat": 4,
 "nbformat_minor": 5
}
